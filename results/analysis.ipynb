{
 "cells": [
  {
   "cell_type": "code",
   "execution_count": 1,
   "metadata": {},
   "outputs": [],
   "source": [
    "import pandas as pd\n",
    "import scipy\n",
    "import statsmodels.api as sm\n",
    "import statsmodels.formula.api as smf"
   ]
  },
  {
   "cell_type": "code",
   "execution_count": 2,
   "metadata": {},
   "outputs": [
    {
     "name": "stdout",
     "output_type": "stream",
     "text": [
      "{'binding-reconstruction', 'binding-domain', 'rel-cl', 'npi-sim-ques', 'binding-c-command', 'binding-case', 'passive', 'existential-there-quantifier', 'det-noun', 'npi-only', 'pp-mod-subj', 'full', 're-irr-sv-agr', 'det-adj-noun', 'npi-sent-neg', 'superlative-quantifier'}\n",
      "{'sentential_negation_npi_scope', 'existential_there_quantifiers_1', 'matrix_question_npi_licensor_present', 'superlative_quantifiers_1', 'principle_A_case_1', 'principle_A_domain_1', 'principle_A_domain_3', 'principle_A_case_2', 'determiner_noun_agreement_with_adj_2', 'distractor_agreement_relative_clause', 'irregular_plural_subject_verb_agreement_2', 'determiner_noun_agreement_with_adj_irregular_1', 'determiner_noun_agreement_with_adjective_1', 'irregular_plural_subject_verb_agreement_1', 'regular_plural_subject_verb_agreement_2', 'sentential_negation_npi_licensor_present', 'principle_A_c_command', 'principle_A_reconstruction', 'superlative_quantifiers_2', 'determiner_noun_agreement_irregular_1', 'principle_A_domain_2', 'determiner_noun_agreement_1', 'only_npi_scope', 'distractor_agreement_relational_noun', 'passive_2', 'passive_1', 'determiner_noun_agreement_2', 'regular_plural_subject_verb_agreement_1', 'determiner_noun_agreement_with_adj_irregular_2', 'determiner_noun_agreement_irregular_2', 'only_npi_licensor_present'}\n"
     ]
    }
   ],
   "source": [
    "blimp_corpus_map = {\n",
    "    \"full\": [],\n",
    "    \"pp-mod-subj\": [\"distractor_agreement_relational_noun\"],\n",
    "    \"rel-cl\": [\"distractor_agreement_relative_clause\"],\n",
    "    \"re-irr-sv-agr\": [\n",
    "        \"irregular_plural_subject_verb_agreement_1\",\n",
    "        \"irregular_plural_subject_verb_agreement_2\",\n",
    "        \"regular_plural_subject_verb_agreement_1\",\n",
    "        \"regular_plural_subject_verb_agreement_2\",\n",
    "    ],\n",
    "    \"npi-only\": [\"only_npi_licensor_present\", \"only_npi_scope\"],\n",
    "    \"npi-sent-neg\": [\n",
    "        \"sentential_negation_npi_licensor_present\",\n",
    "        \"sentential_negation_npi_scope\",\n",
    "    ],\n",
    "    \"npi-sim-ques\": [\"matrix_question_npi_licensor_present\"],\n",
    "    \"superlative-quantifier\": [\n",
    "        \"superlative_quantifiers_1\",\n",
    "        \"superlative_quantifiers_2\",\n",
    "    ],\n",
    "    \"existential-there-quantifier\": [\"existential_there_quantifiers_1\"],\n",
    "    \"binding-c-command\": [\"principle_A_c_command\"],\n",
    "    \"binding-case\": [\"principle_A_case_1\", \"principle_A_case_2\"],\n",
    "    \"binding-domain\": [\n",
    "        \"principle_A_domain_1\",\n",
    "        \"principle_A_domain_2\",\n",
    "        \"principle_A_domain_3\",\n",
    "    ],\n",
    "    \"binding-reconstruction\": [\"principle_A_reconstruction\"],\n",
    "    \"passive\": [\"passive_1\", \"passive_2\"],\n",
    "    \"det-adj-noun\": [\n",
    "        \"determiner_noun_agreement_with_adjective_1\",\n",
    "        \"determiner_noun_agreement_with_adj_2\",\n",
    "        \"determiner_noun_agreement_with_adj_irregular_1\",\n",
    "        \"determiner_noun_agreement_with_adj_irregular_2\",\n",
    "    ],\n",
    "    \"det-noun\": [\n",
    "        \"determiner_noun_agreement_1\",\n",
    "        \"determiner_noun_agreement_2\",\n",
    "        \"determiner_noun_agreement_irregular_1\",\n",
    "        \"determiner_noun_agreement_irregular_2\",\n",
    "    ],\n",
    "}\n",
    "all_filters = set(blimp_corpus_map.keys())\n",
    "benchmarks_with_filters = set([_ for xs in blimp_corpus_map.values() for _ in xs])\n",
    "print(all_filters)\n",
    "print(benchmarks_with_filters)"
   ]
  },
  {
   "cell_type": "markdown",
   "metadata": {},
   "source": [
    "# Read the main data"
   ]
  },
  {
   "cell_type": "code",
   "execution_count": 3,
   "metadata": {},
   "outputs": [
    {
     "name": "stdout",
     "output_type": "stream",
     "text": [
      "Index(['corpus', 'arch', 'seed', 'validation_loss', 'validation_ppl',\n",
      "       'test_loss', 'test_ppl', 'blimp_benchmark', 'blimp_acc',\n",
      "       'filter_target', 'z_validation_ppl', 'z_validation_loss', 'z_test_ppl',\n",
      "       'z_test_loss', 'full_same_seed_acc', 'blimp_delta_same_seed',\n",
      "       'full_all_seed_avg_acc', 'blimp_delta', 'field', 'linguistics_term',\n",
      "       'corpus_tokens'],\n",
      "      dtype='object')\n",
      "        corpus         arch  seed  validation_loss  validation_ppl  test_loss  \\\n",
      "0         full  transformer     0         3.841752       46.607061   3.845174   \n",
      "1         full  transformer     1         3.840523       46.549825   3.844156   \n",
      "2         full  transformer     2         3.840050       46.527789   3.843551   \n",
      "3         full  transformer     3         3.841511       46.595850   3.844735   \n",
      "4         full  transformer     4         3.842284       46.631870   3.846043   \n",
      "...        ...          ...   ...              ...             ...        ...   \n",
      "10715  passive         lstm     0         3.975108       53.255876   3.977766   \n",
      "10716  passive         lstm     1         3.975204       53.261006   3.978100   \n",
      "10717  passive         lstm     2         3.974197       53.207382   3.977306   \n",
      "10718  passive         lstm     3         3.975786       53.291974   3.978186   \n",
      "10719  passive         lstm     4         3.977474       53.382045   3.980730   \n",
      "\n",
      "        test_ppl                    blimp_benchmark  blimp_acc  filter_target  \\\n",
      "0      46.766802                     adjunct_island      0.726          False   \n",
      "1      46.719216                     adjunct_island      0.654          False   \n",
      "2      46.690965                     adjunct_island      0.668          False   \n",
      "3      46.746313                     adjunct_island      0.814          False   \n",
      "4      46.807473                     adjunct_island      0.665          False   \n",
      "...          ...                                ...        ...            ...   \n",
      "10715  53.397600  wh_vs_that_with_gap_long_distance      0.137          False   \n",
      "10716  53.415426  wh_vs_that_with_gap_long_distance      0.164          False   \n",
      "10717  53.373047  wh_vs_that_with_gap_long_distance      0.121          False   \n",
      "10718  53.420024  wh_vs_that_with_gap_long_distance      0.091          False   \n",
      "10719  53.556119  wh_vs_that_with_gap_long_distance      0.125          False   \n",
      "\n",
      "       ...  z_validation_loss  z_test_ppl  z_test_loss  full_same_seed_acc  \\\n",
      "0      ...          -1.096013   -1.089433    -1.096798               0.726   \n",
      "1      ...          -1.114756   -1.103922    -1.112395               0.654   \n",
      "2      ...          -1.121978   -1.112524    -1.121662               0.668   \n",
      "3      ...          -1.099682   -1.095671    -1.103512               0.814   \n",
      "4      ...          -1.087896   -1.077049    -1.083481               0.665   \n",
      "...    ...                ...         ...          ...                 ...   \n",
      "10715  ...           0.938086    0.929552     0.934563               0.144   \n",
      "10716  ...           0.939555    0.934980     0.939677               0.139   \n",
      "10717  ...           0.924191    0.922076     0.927517               0.161   \n",
      "10718  ...           0.948421    0.936380     0.940995               0.156   \n",
      "10719  ...           0.974180    0.977819     0.979977               0.087   \n",
      "\n",
      "       blimp_delta_same_seed  full_all_seed_avg_acc  blimp_delta   field  \\\n",
      "0                      0.000                 0.7054       0.0206  syntax   \n",
      "1                      0.000                 0.7054      -0.0514  syntax   \n",
      "2                      0.000                 0.7054      -0.0374  syntax   \n",
      "3                      0.000                 0.7054       0.1086  syntax   \n",
      "4                      0.000                 0.7054      -0.0404  syntax   \n",
      "...                      ...                    ...          ...     ...   \n",
      "10715                 -0.007                 0.1374      -0.0004  syntax   \n",
      "10716                  0.025                 0.1374       0.0266  syntax   \n",
      "10717                 -0.040                 0.1374      -0.0164  syntax   \n",
      "10718                 -0.065                 0.1374      -0.0464  syntax   \n",
      "10719                  0.038                 0.1374      -0.0124  syntax   \n",
      "\n",
      "            linguistics_term corpus_tokens  \n",
      "0             island_effects      66442068  \n",
      "1             island_effects      66442068  \n",
      "2             island_effects      66442068  \n",
      "3             island_effects      66442068  \n",
      "4             island_effects      66442068  \n",
      "...                      ...           ...  \n",
      "10715  filler_gap_dependency      66155000  \n",
      "10716  filler_gap_dependency      66155000  \n",
      "10717  filler_gap_dependency      66155000  \n",
      "10718  filler_gap_dependency      66155000  \n",
      "10719  filler_gap_dependency      66155000  \n",
      "\n",
      "[10720 rows x 21 columns]\n",
      "                      corpus         arch  seed  validation_loss  \\\n",
      "1580                det-noun  transformer     0         3.843544   \n",
      "1581                det-noun  transformer     1         3.842465   \n",
      "1582                det-noun  transformer     2         3.842910   \n",
      "1583                det-noun  transformer     3         3.842438   \n",
      "1584                det-noun  transformer     4         3.842675   \n",
      "...                      ...          ...   ...              ...   \n",
      "8875  superlative-quantifier         lstm     0         3.989485   \n",
      "8876  superlative-quantifier         lstm     1         3.985262   \n",
      "8877  superlative-quantifier         lstm     2         3.985582   \n",
      "8878  superlative-quantifier         lstm     3         3.989296   \n",
      "8879  superlative-quantifier         lstm     4         3.989758   \n",
      "\n",
      "      validation_ppl  test_loss   test_ppl              blimp_benchmark  \\\n",
      "1580       46.690676   3.847355  46.868914  determiner_noun_agreement_1   \n",
      "1581       46.640309   3.846273  46.818244  determiner_noun_agreement_1   \n",
      "1582       46.661052   3.845873  46.799539  determiner_noun_agreement_1   \n",
      "1583       46.639063   3.845911  46.801313  determiner_noun_agreement_1   \n",
      "1584       46.650084   3.846630  46.834957  determiner_noun_agreement_1   \n",
      "...              ...        ...        ...                          ...   \n",
      "8875       54.027060   3.991968  54.161370    superlative_quantifiers_2   \n",
      "8876       53.799379   3.987931  53.943153    superlative_quantifiers_2   \n",
      "8877       53.816595   3.988850  53.992781    superlative_quantifiers_2   \n",
      "8878       54.016846   3.991887  54.156966    superlative_quantifiers_2   \n",
      "8879       54.041798   3.992677  54.199774    superlative_quantifiers_2   \n",
      "\n",
      "      blimp_acc  filter_target  ...  z_validation_loss  z_test_ppl  \\\n",
      "1580      0.919           True  ...          -1.068672   -1.058341   \n",
      "1581      0.902           True  ...          -1.085135   -1.073770   \n",
      "1582      0.906           True  ...          -1.078353   -1.079465   \n",
      "1583      0.907           True  ...          -1.085543   -1.078925   \n",
      "1584      0.911           True  ...          -1.081939   -1.068681   \n",
      "...         ...            ...  ...                ...         ...   \n",
      "8875      0.576           True  ...           1.157379    1.162109   \n",
      "8876      0.561           True  ...           1.092963    1.095665   \n",
      "8877      0.433           True  ...           1.097843    1.110776   \n",
      "8878      0.481           True  ...           1.154495    1.160768   \n",
      "8879      0.572           True  ...           1.161539    1.173803   \n",
      "\n",
      "      z_test_loss  full_same_seed_acc  blimp_delta_same_seed  \\\n",
      "1580    -1.063384               0.885                  0.034   \n",
      "1581    -1.079956               0.925                 -0.023   \n",
      "1582    -1.086078               0.912                 -0.006   \n",
      "1583    -1.085497               0.918                 -0.011   \n",
      "1584    -1.074488               0.896                  0.015   \n",
      "...           ...                 ...                    ...   \n",
      "8875     1.152145               0.544                  0.032   \n",
      "8876     1.090294               0.545                  0.016   \n",
      "8877     1.104382               0.577                 -0.144   \n",
      "8878     1.150899               0.458                  0.023   \n",
      "8879     1.163004               0.507                  0.065   \n",
      "\n",
      "      full_all_seed_avg_acc  blimp_delta       field  \\\n",
      "1580                 0.9072       0.0118  morphology   \n",
      "1581                 0.9072      -0.0052  morphology   \n",
      "1582                 0.9072      -0.0012  morphology   \n",
      "1583                 0.9072      -0.0002  morphology   \n",
      "1584                 0.9072       0.0038  morphology   \n",
      "...                     ...          ...         ...   \n",
      "8875                 0.5262       0.0498   semantics   \n",
      "8876                 0.5262       0.0348   semantics   \n",
      "8877                 0.5262      -0.0932   semantics   \n",
      "8878                 0.5262      -0.0452   semantics   \n",
      "8879                 0.5262       0.0458   semantics   \n",
      "\n",
      "               linguistics_term corpus_tokens  \n",
      "1580  determiner_noun_agreement      66406785  \n",
      "1581  determiner_noun_agreement      66406785  \n",
      "1582  determiner_noun_agreement      66406785  \n",
      "1583  determiner_noun_agreement      66406785  \n",
      "1584  determiner_noun_agreement      66406785  \n",
      "...                         ...           ...  \n",
      "8875                quantifiers      64929456  \n",
      "8876                quantifiers      64929456  \n",
      "8877                quantifiers      64929456  \n",
      "8878                quantifiers      64929456  \n",
      "8879                quantifiers      64929456  \n",
      "\n",
      "[310 rows x 21 columns]\n"
     ]
    }
   ],
   "source": [
    "main_data = pd.read_csv(\"data/tidy_results.csv\", index_col=0)\n",
    "main_data = main_data.rename(columns = {\"blimp_delta_all_seed_avg\": \"blimp_delta\"})\n",
    "print(main_data.columns)\n",
    "print(main_data)\n",
    "\n",
    "filter_target_data = main_data[main_data[\"filter_target\"] == True]\n",
    "print(filter_target_data)"
   ]
  },
  {
   "cell_type": "markdown",
   "metadata": {},
   "source": [
    "# Basic descriptive stats"
   ]
  },
  {
   "cell_type": "code",
   "execution_count": 4,
   "metadata": {},
   "outputs": [],
   "source": [
    "# group data by corpus and architecture, take the mean test ppl across seeds\n",
    "data_by_arch_and_corpus = main_data.groupby([\"corpus\", \"arch\"])"
   ]
  },
  {
   "cell_type": "code",
   "execution_count": 5,
   "metadata": {},
   "outputs": [],
   "source": [
    "def cohen_d(group1: pd.Series, group2: pd.Series) -> float:\n",
    "    n1, n2 = len(group1), len(group2)\n",
    "    s1, s2 = group1.std(), group2.std()\n",
    "    s = ((n1 - 1) * s1 ** 2 + (n2 - 1) * s2 ** 2) / (n1 + n2 - 2)\n",
    "    return (group1.mean() - group2.mean()) / (s ** 0.5)"
   ]
  },
  {
   "cell_type": "markdown",
   "metadata": {},
   "source": [
    "## Perplexities"
   ]
  },
  {
   "cell_type": "code",
   "execution_count": 6,
   "metadata": {},
   "outputs": [
    {
     "name": "stdout",
     "output_type": "stream",
     "text": [
      "arch\n",
      "lstm           53.557030\n",
      "transformer    47.132456\n",
      "dtype: float64\n",
      "TtestResult(statistic=270.8441367109314, pvalue=4.324417318161816e-29, df=15)\n",
      "9.14590781117233\n"
     ]
    }
   ],
   "source": [
    "ppls_by_arch = data_by_arch_and_corpus[\"test_ppl\"].mean()\n",
    "# ppls_by_arch = filter_target_data.groupby([\"corpus\", \"arch\"])[\"test_ppl\"].mean()\n",
    "# get the difference between lstm and transformer for each corpus\n",
    "ppl_unstacked = ppls_by_arch.unstack(level=\"arch\")\n",
    "\n",
    "# print the mean ppl for each architecture\n",
    "print(ppl_unstacked.mean())\n",
    "print(scipy.stats.ttest_rel(ppl_unstacked[\"lstm\"], ppl_unstacked[\"transformer\"]))\n",
    "print(cohen_d(ppl_unstacked[\"lstm\"], ppl_unstacked[\"transformer\"]))\n"
   ]
  },
  {
   "cell_type": "markdown",
   "metadata": {},
   "source": [
    "## BLiMP Accuracies"
   ]
  },
  {
   "cell_type": "markdown",
   "metadata": {},
   "source": [
    "## All data"
   ]
  },
  {
   "cell_type": "code",
   "execution_count": 7,
   "metadata": {},
   "outputs": [
    {
     "name": "stdout",
     "output_type": "stream",
     "text": [
      "arch\n",
      "lstm           0.704122\n",
      "transformer    0.718575\n",
      "dtype: float64\n",
      "TtestResult(statistic=-17.379131652852433, pvalue=2.3895394371004496e-11, df=15)\n",
      "-3.243116580968632\n"
     ]
    }
   ],
   "source": [
    "accs_by_arch = data_by_arch_and_corpus[\"blimp_acc\"].mean()\n",
    "accs_unstacked = accs_by_arch.unstack(level=\"arch\")\n",
    "print(accs_unstacked.mean())\n",
    "print(scipy.stats.ttest_rel(accs_unstacked[\"lstm\"], accs_unstacked[\"transformer\"]))\n",
    "print(cohen_d(accs_unstacked[\"lstm\"], accs_unstacked[\"transformer\"]))"
   ]
  },
  {
   "cell_type": "markdown",
   "metadata": {},
   "source": [
    "## Filtered target data"
   ]
  },
  {
   "cell_type": "code",
   "execution_count": 8,
   "metadata": {},
   "outputs": [
    {
     "name": "stdout",
     "output_type": "stream",
     "text": [
      "arch\n",
      "lstm           0.667328\n",
      "transformer    0.688174\n",
      "dtype: float64\n",
      "TtestResult(statistic=-1.1791799116654738, pvalue=0.25797842647470387, df=14)\n",
      "-0.11736564402587392\n"
     ]
    }
   ],
   "source": [
    "filtered_accs_by_arch = filter_target_data.groupby([\"corpus\", \"arch\"])[\"blimp_acc\"].mean()\n",
    "filtered_accs_unstacked = filtered_accs_by_arch.unstack(level=\"arch\")\n",
    "print(filtered_accs_unstacked.mean())\n",
    "print(scipy.stats.ttest_rel(filtered_accs_unstacked[\"lstm\"], filtered_accs_unstacked[\"transformer\"]))\n",
    "print(cohen_d(filtered_accs_unstacked[\"lstm\"], filtered_accs_unstacked[\"transformer\"]))"
   ]
  },
  {
   "cell_type": "markdown",
   "metadata": {},
   "source": [
    "# Next steps"
   ]
  },
  {
   "cell_type": "code",
   "execution_count": 9,
   "metadata": {},
   "outputs": [
    {
     "name": "stdout",
     "output_type": "stream",
     "text": [
      "            Mixed Linear Model Regression Results\n",
      "=============================================================\n",
      "Model:              MixedLM   Dependent Variable:   test_ppl \n",
      "No. Observations:   10720     Method:               REML     \n",
      "No. Groups:         2         Scale:                0.0268   \n",
      "Min. group size:    5360      Log-Likelihood:       4158.2101\n",
      "Max. group size:    5360      Converged:            Yes      \n",
      "Mean group size:    5360.0                                   \n",
      "-------------------------------------------------------------\n",
      "               Coef.  Std.Err.    z     P>|z|  [0.025  0.975]\n",
      "-------------------------------------------------------------\n",
      "Intercept     110.442    2.130   51.849 0.000 106.267 114.617\n",
      "corpus_tokens  -0.000    0.000 -419.795 0.000  -0.000  -0.000\n",
      "Group Var       9.034   41.311                               \n",
      "=============================================================\n",
      "\n",
      "                            OLS Regression Results                            \n",
      "==============================================================================\n",
      "Dep. Variable:               test_ppl   R-squared:                       0.998\n",
      "Model:                            OLS   Adj. R-squared:                  0.998\n",
      "Method:                 Least Squares   F-statistic:                 1.499e+06\n",
      "Date:                Tue, 23 Apr 2024   Prob (F-statistic):               0.00\n",
      "Time:                        11:35:29   Log-Likelihood:                 4427.0\n",
      "No. Observations:               10720   AIC:                            -8846.\n",
      "Df Residuals:                   10716   BIC:                            -8817.\n",
      "Df Model:                           3                                         \n",
      "Covariance Type:            nonrobust                                         \n",
      "=====================================================================================================\n",
      "                                        coef    std err          t      P>|t|      [0.025      0.975]\n",
      "-----------------------------------------------------------------------------------------------------\n",
      "Intercept                           116.7298      0.198    589.364      0.000     116.342     117.118\n",
      "arch[T.transformer]                 -12.5748      0.280    -44.894      0.000     -13.124     -12.026\n",
      "corpus_tokens                     -9.572e-07      3e-09   -318.976      0.000   -9.63e-07   -9.51e-07\n",
      "corpus_tokens:arch[T.transformer]  9.319e-08   4.24e-09     21.959      0.000    8.49e-08    1.02e-07\n",
      "==============================================================================\n",
      "Omnibus:                     2121.682   Durbin-Watson:                   0.697\n",
      "Prob(Omnibus):                  0.000   Jarque-Bera (JB):             5421.708\n",
      "Skew:                          -1.083   Prob(JB):                         0.00\n",
      "Kurtosis:                       5.729   Cond. No.                     1.56e+10\n",
      "==============================================================================\n",
      "\n",
      "Notes:\n",
      "[1] Standard Errors assume that the covariance matrix of the errors is correctly specified.\n",
      "[2] The condition number is large, 1.56e+10. This might indicate that there are\n",
      "strong multicollinearity or other numerical problems.\n"
     ]
    },
    {
     "ename": "AttributeError",
     "evalue": "'MixedLMResults' object has no attribute 'ssr'",
     "output_type": "error",
     "traceback": [
      "\u001b[0;31m---------------------------------------------------------------------------\u001b[0m",
      "\u001b[0;31mAttributeError\u001b[0m                            Traceback (most recent call last)",
      "Cell \u001b[0;32mIn[9], line 9\u001b[0m\n\u001b[1;32m      6\u001b[0m fixed_test_ppl_result \u001b[38;5;241m=\u001b[39m fixed_test_ppl_model\u001b[38;5;241m.\u001b[39mfit()\n\u001b[1;32m      7\u001b[0m \u001b[38;5;28mprint\u001b[39m(fixed_test_ppl_result\u001b[38;5;241m.\u001b[39msummary())\n\u001b[0;32m----> 9\u001b[0m \u001b[38;5;28mprint\u001b[39m(\u001b[43msm\u001b[49m\u001b[38;5;241;43m.\u001b[39;49m\u001b[43mstats\u001b[49m\u001b[38;5;241;43m.\u001b[39;49m\u001b[43manova_lm\u001b[49m\u001b[43m(\u001b[49m\u001b[43mfixed_test_ppl_result\u001b[49m\u001b[43m,\u001b[49m\u001b[43m \u001b[49m\u001b[43mmixed_test_ppl_result\u001b[49m\u001b[43m)\u001b[49m)\n\u001b[1;32m     11\u001b[0m lstm_test_ppl_model \u001b[38;5;241m=\u001b[39m smf\u001b[38;5;241m.\u001b[39mols(\u001b[38;5;124m\"\u001b[39m\u001b[38;5;124mtest_ppl ~ corpus_tokens\u001b[39m\u001b[38;5;124m\"\u001b[39m, main_data[main_data[\u001b[38;5;124m\"\u001b[39m\u001b[38;5;124march\u001b[39m\u001b[38;5;124m\"\u001b[39m] \u001b[38;5;241m==\u001b[39m \u001b[38;5;124m\"\u001b[39m\u001b[38;5;124mlstm\u001b[39m\u001b[38;5;124m\"\u001b[39m])\n\u001b[1;32m     12\u001b[0m lstm_test_ppl_result \u001b[38;5;241m=\u001b[39m lstm_test_ppl_model\u001b[38;5;241m.\u001b[39mfit()\n",
      "File \u001b[0;32m~/opt/anaconda3/envs/corpus-filtering/lib/python3.9/site-packages/statsmodels/stats/anova.py:369\u001b[0m, in \u001b[0;36manova_lm\u001b[0;34m(*args, **kwargs)\u001b[0m\n\u001b[1;32m    366\u001b[0m \u001b[38;5;28;01mif\u001b[39;00m \u001b[38;5;129;01mnot\u001b[39;00m scale: \u001b[38;5;66;03m# assume biggest model is last\u001b[39;00m\n\u001b[1;32m    367\u001b[0m     scale \u001b[38;5;241m=\u001b[39m args[\u001b[38;5;241m-\u001b[39m\u001b[38;5;241m1\u001b[39m]\u001b[38;5;241m.\u001b[39mscale\n\u001b[0;32m--> 369\u001b[0m table[\u001b[38;5;124m\"\u001b[39m\u001b[38;5;124mssr\u001b[39m\u001b[38;5;124m\"\u001b[39m] \u001b[38;5;241m=\u001b[39m [mdl\u001b[38;5;241m.\u001b[39mssr \u001b[38;5;28;01mfor\u001b[39;00m mdl \u001b[38;5;129;01min\u001b[39;00m args]\n\u001b[1;32m    370\u001b[0m table[\u001b[38;5;124m\"\u001b[39m\u001b[38;5;124mdf_resid\u001b[39m\u001b[38;5;124m\"\u001b[39m] \u001b[38;5;241m=\u001b[39m [mdl\u001b[38;5;241m.\u001b[39mdf_resid \u001b[38;5;28;01mfor\u001b[39;00m mdl \u001b[38;5;129;01min\u001b[39;00m args]\n\u001b[1;32m    371\u001b[0m table\u001b[38;5;241m.\u001b[39mloc[table\u001b[38;5;241m.\u001b[39mindex[\u001b[38;5;241m1\u001b[39m:], \u001b[38;5;124m\"\u001b[39m\u001b[38;5;124mdf_diff\u001b[39m\u001b[38;5;124m\"\u001b[39m] \u001b[38;5;241m=\u001b[39m \u001b[38;5;241m-\u001b[39mnp\u001b[38;5;241m.\u001b[39mdiff(table[\u001b[38;5;124m\"\u001b[39m\u001b[38;5;124mdf_resid\u001b[39m\u001b[38;5;124m\"\u001b[39m]\u001b[38;5;241m.\u001b[39mvalues)\n",
      "File \u001b[0;32m~/opt/anaconda3/envs/corpus-filtering/lib/python3.9/site-packages/statsmodels/stats/anova.py:369\u001b[0m, in \u001b[0;36m<listcomp>\u001b[0;34m(.0)\u001b[0m\n\u001b[1;32m    366\u001b[0m \u001b[38;5;28;01mif\u001b[39;00m \u001b[38;5;129;01mnot\u001b[39;00m scale: \u001b[38;5;66;03m# assume biggest model is last\u001b[39;00m\n\u001b[1;32m    367\u001b[0m     scale \u001b[38;5;241m=\u001b[39m args[\u001b[38;5;241m-\u001b[39m\u001b[38;5;241m1\u001b[39m]\u001b[38;5;241m.\u001b[39mscale\n\u001b[0;32m--> 369\u001b[0m table[\u001b[38;5;124m\"\u001b[39m\u001b[38;5;124mssr\u001b[39m\u001b[38;5;124m\"\u001b[39m] \u001b[38;5;241m=\u001b[39m [\u001b[43mmdl\u001b[49m\u001b[38;5;241;43m.\u001b[39;49m\u001b[43mssr\u001b[49m \u001b[38;5;28;01mfor\u001b[39;00m mdl \u001b[38;5;129;01min\u001b[39;00m args]\n\u001b[1;32m    370\u001b[0m table[\u001b[38;5;124m\"\u001b[39m\u001b[38;5;124mdf_resid\u001b[39m\u001b[38;5;124m\"\u001b[39m] \u001b[38;5;241m=\u001b[39m [mdl\u001b[38;5;241m.\u001b[39mdf_resid \u001b[38;5;28;01mfor\u001b[39;00m mdl \u001b[38;5;129;01min\u001b[39;00m args]\n\u001b[1;32m    371\u001b[0m table\u001b[38;5;241m.\u001b[39mloc[table\u001b[38;5;241m.\u001b[39mindex[\u001b[38;5;241m1\u001b[39m:], \u001b[38;5;124m\"\u001b[39m\u001b[38;5;124mdf_diff\u001b[39m\u001b[38;5;124m\"\u001b[39m] \u001b[38;5;241m=\u001b[39m \u001b[38;5;241m-\u001b[39mnp\u001b[38;5;241m.\u001b[39mdiff(table[\u001b[38;5;124m\"\u001b[39m\u001b[38;5;124mdf_resid\u001b[39m\u001b[38;5;124m\"\u001b[39m]\u001b[38;5;241m.\u001b[39mvalues)\n",
      "File \u001b[0;32m~/opt/anaconda3/envs/corpus-filtering/lib/python3.9/site-packages/statsmodels/base/wrapper.py:34\u001b[0m, in \u001b[0;36mResultsWrapper.__getattribute__\u001b[0;34m(self, attr)\u001b[0m\n\u001b[1;32m     31\u001b[0m \u001b[38;5;28;01mexcept\u001b[39;00m \u001b[38;5;167;01mAttributeError\u001b[39;00m:\n\u001b[1;32m     32\u001b[0m     \u001b[38;5;28;01mpass\u001b[39;00m\n\u001b[0;32m---> 34\u001b[0m obj \u001b[38;5;241m=\u001b[39m \u001b[38;5;28;43mgetattr\u001b[39;49m\u001b[43m(\u001b[49m\u001b[43mresults\u001b[49m\u001b[43m,\u001b[49m\u001b[43m \u001b[49m\u001b[43mattr\u001b[49m\u001b[43m)\u001b[49m\n\u001b[1;32m     35\u001b[0m data \u001b[38;5;241m=\u001b[39m results\u001b[38;5;241m.\u001b[39mmodel\u001b[38;5;241m.\u001b[39mdata\n\u001b[1;32m     36\u001b[0m how \u001b[38;5;241m=\u001b[39m \u001b[38;5;28mself\u001b[39m\u001b[38;5;241m.\u001b[39m_wrap_attrs\u001b[38;5;241m.\u001b[39mget(attr)\n",
      "\u001b[0;31mAttributeError\u001b[0m: 'MixedLMResults' object has no attribute 'ssr'"
     ]
    }
   ],
   "source": [
    "mixed_test_ppl_model = smf.mixedlm(\"test_ppl ~ corpus_tokens\", main_data, groups=main_data[\"arch\"])\n",
    "mixed_test_ppl_result = mixed_test_ppl_model.fit()\n",
    "print(mixed_test_ppl_result.summary())\n",
    "\n",
    "fixed_test_ppl_model = smf.ols(\"test_ppl ~ corpus_tokens + arch + corpus_tokens*arch\", main_data)\n",
    "fixed_test_ppl_result = fixed_test_ppl_model.fit()\n",
    "print(fixed_test_ppl_result.summary())\n",
    "\n",
    "print(sm.stats.anova_lm(fixed_test_ppl_result, mixed_test_ppl_result))\n",
    "\n",
    "lstm_test_ppl_model = smf.ols(\"test_ppl ~ corpus_tokens\", main_data[main_data[\"arch\"] == \"lstm\"])\n",
    "lstm_test_ppl_result = lstm_test_ppl_model.fit()\n",
    "print(lstm_test_ppl_result.summary())\n",
    "\n",
    "print(scipy.stats.pearsonr(main_data[main_data[\"arch\"]==\"lstm\"][\"corpus_tokens\"], main_data[main_data[\"arch\"]==\"lstm\"][\"test_ppl\"]))"
   ]
  },
  {
   "cell_type": "code",
   "execution_count": null,
   "metadata": {},
   "outputs": [],
   "source": []
  }
 ],
 "metadata": {
  "kernelspec": {
   "display_name": "corpus-filtering",
   "language": "python",
   "name": "python3"
  },
  "language_info": {
   "codemirror_mode": {
    "name": "ipython",
    "version": 3
   },
   "file_extension": ".py",
   "mimetype": "text/x-python",
   "name": "python",
   "nbconvert_exporter": "python",
   "pygments_lexer": "ipython3",
   "version": "3.9.16"
  }
 },
 "nbformat": 4,
 "nbformat_minor": 2
}
