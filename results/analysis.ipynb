{
 "cells": [
  {
   "cell_type": "code",
   "execution_count": 1,
   "metadata": {},
   "outputs": [],
   "source": [
    "import pandas as pd\n",
    "import scipy\n",
    "import statsmodels.api as sm\n",
    "import statsmodels.formula.api as smf"
   ]
  },
  {
   "cell_type": "code",
   "execution_count": 2,
   "metadata": {},
   "outputs": [
    {
     "name": "stdout",
     "output_type": "stream",
     "text": [
      "{'rel-cl', 'binding-reconstruction', 'npi-sent-neg', 'superlative-quantifier', 'pp-mod-subj', 'binding-case', 'det-noun', 're-irr-sv-agr', 'npi-only', 'passive', 'npi-sim-ques', 'existential-there-quantifier', 'full', 'det-adj-noun', 'binding-domain', 'binding-c-command'}\n",
      "{'principle_A_case_1', 'sentential_negation_npi_licensor_present', 'determiner_noun_agreement_with_adj_2', 'sentential_negation_npi_scope', 'passive_1', 'principle_A_reconstruction', 'determiner_noun_agreement_1', 'determiner_noun_agreement_2', 'principle_A_domain_3', 'determiner_noun_agreement_irregular_1', 'irregular_plural_subject_verb_agreement_2', 'matrix_question_npi_licensor_present', 'determiner_noun_agreement_with_adj_irregular_2', 'principle_A_domain_1', 'regular_plural_subject_verb_agreement_1', 'determiner_noun_agreement_with_adjective_1', 'principle_A_c_command', 'principle_A_case_2', 'determiner_noun_agreement_irregular_2', 'distractor_agreement_relative_clause', 'superlative_quantifiers_2', 'only_npi_scope', 'passive_2', 'principle_A_domain_2', 'determiner_noun_agreement_with_adj_irregular_1', 'existential_there_quantifiers_1', 'irregular_plural_subject_verb_agreement_1', 'superlative_quantifiers_1', 'only_npi_licensor_present', 'distractor_agreement_relational_noun', 'regular_plural_subject_verb_agreement_2'}\n"
     ]
    }
   ],
   "source": [
    "blimp_corpus_map = {\n",
    "    \"full\": [],\n",
    "    \"pp-mod-subj\": [\"distractor_agreement_relational_noun\"],\n",
    "    \"rel-cl\": [\"distractor_agreement_relative_clause\"],\n",
    "    \"re-irr-sv-agr\": [\n",
    "        \"irregular_plural_subject_verb_agreement_1\",\n",
    "        \"irregular_plural_subject_verb_agreement_2\",\n",
    "        \"regular_plural_subject_verb_agreement_1\",\n",
    "        \"regular_plural_subject_verb_agreement_2\",\n",
    "    ],\n",
    "    \"npi-only\": [\"only_npi_licensor_present\", \"only_npi_scope\"],\n",
    "    \"npi-sent-neg\": [\n",
    "        \"sentential_negation_npi_licensor_present\",\n",
    "        \"sentential_negation_npi_scope\",\n",
    "    ],\n",
    "    \"npi-sim-ques\": [\"matrix_question_npi_licensor_present\"],\n",
    "    \"superlative-quantifier\": [\n",
    "        \"superlative_quantifiers_1\",\n",
    "        \"superlative_quantifiers_2\",\n",
    "    ],\n",
    "    \"existential-there-quantifier\": [\"existential_there_quantifiers_1\"],\n",
    "    \"binding-c-command\": [\"principle_A_c_command\"],\n",
    "    \"binding-case\": [\"principle_A_case_1\", \"principle_A_case_2\"],\n",
    "    \"binding-domain\": [\n",
    "        \"principle_A_domain_1\",\n",
    "        \"principle_A_domain_2\",\n",
    "        \"principle_A_domain_3\",\n",
    "    ],\n",
    "    \"binding-reconstruction\": [\"principle_A_reconstruction\"],\n",
    "    \"passive\": [\"passive_1\", \"passive_2\"],\n",
    "    \"det-adj-noun\": [\n",
    "        \"determiner_noun_agreement_with_adjective_1\",\n",
    "        \"determiner_noun_agreement_with_adj_2\",\n",
    "        \"determiner_noun_agreement_with_adj_irregular_1\",\n",
    "        \"determiner_noun_agreement_with_adj_irregular_2\",\n",
    "    ],\n",
    "    \"det-noun\": [\n",
    "        \"determiner_noun_agreement_1\",\n",
    "        \"determiner_noun_agreement_2\",\n",
    "        \"determiner_noun_agreement_irregular_1\",\n",
    "        \"determiner_noun_agreement_irregular_2\",\n",
    "    ],\n",
    "}\n",
    "all_filters = set(blimp_corpus_map.keys())\n",
    "benchmarks_with_filters = set([_ for xs in blimp_corpus_map.values() for _ in xs])\n",
    "print(all_filters)\n",
    "print(benchmarks_with_filters)"
   ]
  },
  {
   "cell_type": "markdown",
   "metadata": {},
   "source": [
    "# Read the main data"
   ]
  },
  {
   "cell_type": "code",
   "execution_count": 3,
   "metadata": {},
   "outputs": [
    {
     "name": "stdout",
     "output_type": "stream",
     "text": [
      "Index(['corpus', 'arch', 'seed', 'validation_loss', 'validation_ppl',\n",
      "       'test_loss', 'test_ppl', 'blimp_benchmark', 'blimp_acc',\n",
      "       'filter_target', 'z_validation_ppl', 'z_validation_loss', 'z_test_ppl',\n",
      "       'z_test_loss', 'full_same_seed_acc', 'blimp_delta_same_seed',\n",
      "       'full_all_seed_avg_acc', 'blimp_delta', 'field', 'linguistics_term',\n",
      "       'corpus_tokens'],\n",
      "      dtype='object')\n",
      "        corpus         arch  seed  validation_loss  validation_ppl  test_loss  \\\n",
      "0         full  transformer     0         3.841752       46.607061   3.845174   \n",
      "1         full  transformer     1         3.840523       46.549825   3.844156   \n",
      "2         full  transformer     2         3.840050       46.527789   3.843551   \n",
      "3         full  transformer     3         3.841511       46.595850   3.844735   \n",
      "4         full  transformer     4         3.842284       46.631870   3.846043   \n",
      "...        ...          ...   ...              ...             ...        ...   \n",
      "10715  passive         lstm     0         3.975108       53.255876   3.977766   \n",
      "10716  passive         lstm     1         3.975204       53.261006   3.978100   \n",
      "10717  passive         lstm     2         3.974197       53.207382   3.977306   \n",
      "10718  passive         lstm     3         3.975786       53.291974   3.978186   \n",
      "10719  passive         lstm     4         3.977474       53.382045   3.980730   \n",
      "\n",
      "        test_ppl                    blimp_benchmark  blimp_acc  filter_target  \\\n",
      "0      46.766802                     adjunct_island      0.726          False   \n",
      "1      46.719216                     adjunct_island      0.654          False   \n",
      "2      46.690965                     adjunct_island      0.668          False   \n",
      "3      46.746313                     adjunct_island      0.814          False   \n",
      "4      46.807473                     adjunct_island      0.665          False   \n",
      "...          ...                                ...        ...            ...   \n",
      "10715  53.397600  wh_vs_that_with_gap_long_distance      0.137          False   \n",
      "10716  53.415426  wh_vs_that_with_gap_long_distance      0.164          False   \n",
      "10717  53.373047  wh_vs_that_with_gap_long_distance      0.121          False   \n",
      "10718  53.420024  wh_vs_that_with_gap_long_distance      0.091          False   \n",
      "10719  53.556119  wh_vs_that_with_gap_long_distance      0.125          False   \n",
      "\n",
      "       ...  z_validation_loss  z_test_ppl  z_test_loss  full_same_seed_acc  \\\n",
      "0      ...          -1.096013   -1.089433    -1.096798               0.726   \n",
      "1      ...          -1.114756   -1.103922    -1.112395               0.654   \n",
      "2      ...          -1.121978   -1.112524    -1.121662               0.668   \n",
      "3      ...          -1.099682   -1.095671    -1.103512               0.814   \n",
      "4      ...          -1.087896   -1.077049    -1.083481               0.665   \n",
      "...    ...                ...         ...          ...                 ...   \n",
      "10715  ...           0.938086    0.929552     0.934563               0.144   \n",
      "10716  ...           0.939555    0.934980     0.939677               0.139   \n",
      "10717  ...           0.924191    0.922076     0.927517               0.161   \n",
      "10718  ...           0.948421    0.936380     0.940995               0.156   \n",
      "10719  ...           0.974180    0.977819     0.979977               0.087   \n",
      "\n",
      "       blimp_delta_same_seed  full_all_seed_avg_acc  blimp_delta   field  \\\n",
      "0                      0.000                 0.7054       0.0206  syntax   \n",
      "1                      0.000                 0.7054      -0.0514  syntax   \n",
      "2                      0.000                 0.7054      -0.0374  syntax   \n",
      "3                      0.000                 0.7054       0.1086  syntax   \n",
      "4                      0.000                 0.7054      -0.0404  syntax   \n",
      "...                      ...                    ...          ...     ...   \n",
      "10715                 -0.007                 0.1374      -0.0004  syntax   \n",
      "10716                  0.025                 0.1374       0.0266  syntax   \n",
      "10717                 -0.040                 0.1374      -0.0164  syntax   \n",
      "10718                 -0.065                 0.1374      -0.0464  syntax   \n",
      "10719                  0.038                 0.1374      -0.0124  syntax   \n",
      "\n",
      "            linguistics_term corpus_tokens  \n",
      "0             island_effects      66442068  \n",
      "1             island_effects      66442068  \n",
      "2             island_effects      66442068  \n",
      "3             island_effects      66442068  \n",
      "4             island_effects      66442068  \n",
      "...                      ...           ...  \n",
      "10715  filler_gap_dependency      66155000  \n",
      "10716  filler_gap_dependency      66155000  \n",
      "10717  filler_gap_dependency      66155000  \n",
      "10718  filler_gap_dependency      66155000  \n",
      "10719  filler_gap_dependency      66155000  \n",
      "\n",
      "[10720 rows x 21 columns]\n",
      "                      corpus         arch  seed  validation_loss  \\\n",
      "1580                det-noun  transformer     0         3.843544   \n",
      "1581                det-noun  transformer     1         3.842465   \n",
      "1582                det-noun  transformer     2         3.842910   \n",
      "1583                det-noun  transformer     3         3.842438   \n",
      "1584                det-noun  transformer     4         3.842675   \n",
      "...                      ...          ...   ...              ...   \n",
      "8875  superlative-quantifier         lstm     0         3.989485   \n",
      "8876  superlative-quantifier         lstm     1         3.985262   \n",
      "8877  superlative-quantifier         lstm     2         3.985582   \n",
      "8878  superlative-quantifier         lstm     3         3.989296   \n",
      "8879  superlative-quantifier         lstm     4         3.989758   \n",
      "\n",
      "      validation_ppl  test_loss   test_ppl              blimp_benchmark  \\\n",
      "1580       46.690676   3.847355  46.868914  determiner_noun_agreement_1   \n",
      "1581       46.640309   3.846273  46.818244  determiner_noun_agreement_1   \n",
      "1582       46.661052   3.845873  46.799539  determiner_noun_agreement_1   \n",
      "1583       46.639063   3.845911  46.801313  determiner_noun_agreement_1   \n",
      "1584       46.650084   3.846630  46.834957  determiner_noun_agreement_1   \n",
      "...              ...        ...        ...                          ...   \n",
      "8875       54.027060   3.991968  54.161370    superlative_quantifiers_2   \n",
      "8876       53.799379   3.987931  53.943153    superlative_quantifiers_2   \n",
      "8877       53.816595   3.988850  53.992781    superlative_quantifiers_2   \n",
      "8878       54.016846   3.991887  54.156966    superlative_quantifiers_2   \n",
      "8879       54.041798   3.992677  54.199774    superlative_quantifiers_2   \n",
      "\n",
      "      blimp_acc  filter_target  ...  z_validation_loss  z_test_ppl  \\\n",
      "1580      0.919           True  ...          -1.068672   -1.058341   \n",
      "1581      0.902           True  ...          -1.085135   -1.073770   \n",
      "1582      0.906           True  ...          -1.078353   -1.079465   \n",
      "1583      0.907           True  ...          -1.085543   -1.078925   \n",
      "1584      0.911           True  ...          -1.081939   -1.068681   \n",
      "...         ...            ...  ...                ...         ...   \n",
      "8875      0.576           True  ...           1.157379    1.162109   \n",
      "8876      0.561           True  ...           1.092963    1.095665   \n",
      "8877      0.433           True  ...           1.097843    1.110776   \n",
      "8878      0.481           True  ...           1.154495    1.160768   \n",
      "8879      0.572           True  ...           1.161539    1.173803   \n",
      "\n",
      "      z_test_loss  full_same_seed_acc  blimp_delta_same_seed  \\\n",
      "1580    -1.063384               0.885                  0.034   \n",
      "1581    -1.079956               0.925                 -0.023   \n",
      "1582    -1.086078               0.912                 -0.006   \n",
      "1583    -1.085497               0.918                 -0.011   \n",
      "1584    -1.074488               0.896                  0.015   \n",
      "...           ...                 ...                    ...   \n",
      "8875     1.152145               0.544                  0.032   \n",
      "8876     1.090294               0.545                  0.016   \n",
      "8877     1.104382               0.577                 -0.144   \n",
      "8878     1.150899               0.458                  0.023   \n",
      "8879     1.163004               0.507                  0.065   \n",
      "\n",
      "      full_all_seed_avg_acc  blimp_delta       field  \\\n",
      "1580                 0.9072       0.0118  morphology   \n",
      "1581                 0.9072      -0.0052  morphology   \n",
      "1582                 0.9072      -0.0012  morphology   \n",
      "1583                 0.9072      -0.0002  morphology   \n",
      "1584                 0.9072       0.0038  morphology   \n",
      "...                     ...          ...         ...   \n",
      "8875                 0.5262       0.0498   semantics   \n",
      "8876                 0.5262       0.0348   semantics   \n",
      "8877                 0.5262      -0.0932   semantics   \n",
      "8878                 0.5262      -0.0452   semantics   \n",
      "8879                 0.5262       0.0458   semantics   \n",
      "\n",
      "               linguistics_term corpus_tokens  \n",
      "1580  determiner_noun_agreement      66406785  \n",
      "1581  determiner_noun_agreement      66406785  \n",
      "1582  determiner_noun_agreement      66406785  \n",
      "1583  determiner_noun_agreement      66406785  \n",
      "1584  determiner_noun_agreement      66406785  \n",
      "...                         ...           ...  \n",
      "8875                quantifiers      64929456  \n",
      "8876                quantifiers      64929456  \n",
      "8877                quantifiers      64929456  \n",
      "8878                quantifiers      64929456  \n",
      "8879                quantifiers      64929456  \n",
      "\n",
      "[310 rows x 21 columns]\n"
     ]
    }
   ],
   "source": [
    "main_data = pd.read_csv(\"data/tidy_results.csv\", index_col=0)\n",
    "main_data = main_data.rename(columns = {\"blimp_delta_all_seed_avg\": \"blimp_delta\"})\n",
    "print(main_data.columns)\n",
    "print(main_data)\n",
    "\n",
    "filter_target_data = main_data[main_data[\"filter_target\"] == True]\n",
    "print(filter_target_data)"
   ]
  },
  {
   "cell_type": "markdown",
   "metadata": {},
   "source": [
    "# Basic descriptive stats"
   ]
  },
  {
   "cell_type": "code",
   "execution_count": 4,
   "metadata": {},
   "outputs": [],
   "source": [
    "# group data by corpus and architecture, take the mean test ppl across seeds\n",
    "data_by_arch_and_corpus = main_data.groupby([\"corpus\", \"arch\"])"
   ]
  },
  {
   "cell_type": "code",
   "execution_count": 5,
   "metadata": {},
   "outputs": [],
   "source": [
    "def cohen_d(group1: pd.Series, group2: pd.Series) -> float:\n",
    "    n1, n2 = len(group1), len(group2)\n",
    "    s1, s2 = group1.std(), group2.std()\n",
    "    s = ((n1 - 1) * s1 ** 2 + (n2 - 1) * s2 ** 2) / (n1 + n2 - 2)\n",
    "    return (group1.mean() - group2.mean()) / (s ** 0.5)"
   ]
  },
  {
   "cell_type": "markdown",
   "metadata": {},
   "source": [
    "## Perplexities"
   ]
  },
  {
   "cell_type": "code",
   "execution_count": 13,
   "metadata": {},
   "outputs": [
    {
     "name": "stdout",
     "output_type": "stream",
     "text": [
      "arch\n",
      "lstm           53.557030\n",
      "transformer    47.132456\n",
      "dtype: float64\n",
      "TtestResult(statistic=270.8441367109314, pvalue=4.324417318161816e-29, df=15)\n",
      "9.14590781117233\n"
     ]
    }
   ],
   "source": [
    "ppls_by_arch = data_by_arch_and_corpus[\"test_ppl\"].mean()\n",
    "# ppls_by_arch = filter_target_data.groupby([\"corpus\", \"arch\"])[\"test_ppl\"].mean()\n",
    "# get the difference between lstm and transformer for each corpus\n",
    "ppl_unstacked = ppls_by_arch.unstack(level=\"arch\")\n",
    "\n",
    "# print the mean ppl for each architecture\n",
    "print(ppl_unstacked.mean())\n",
    "print(scipy.stats.ttest_rel(ppl_unstacked[\"lstm\"], ppl_unstacked[\"transformer\"]))\n",
    "print(cohen_d(ppl_unstacked[\"lstm\"], ppl_unstacked[\"transformer\"]))\n"
   ]
  },
  {
   "cell_type": "markdown",
   "metadata": {},
   "source": [
    "## BLiMP Accuracies"
   ]
  },
  {
   "cell_type": "markdown",
   "metadata": {},
   "source": [
    "## All data"
   ]
  },
  {
   "cell_type": "code",
   "execution_count": 16,
   "metadata": {},
   "outputs": [
    {
     "name": "stdout",
     "output_type": "stream",
     "text": [
      "arch\n",
      "lstm           0.704122\n",
      "transformer    0.718575\n",
      "dtype: float64\n",
      "TtestResult(statistic=-17.379131652852433, pvalue=2.3895394371004496e-11, df=15)\n",
      "-3.243116580968632\n"
     ]
    }
   ],
   "source": [
    "accs_by_arch = data_by_arch_and_corpus[\"blimp_acc\"].mean()\n",
    "accs_unstacked = accs_by_arch.unstack(level=\"arch\")\n",
    "print(accs_unstacked.mean())\n",
    "print(scipy.stats.ttest_rel(accs_unstacked[\"lstm\"], accs_unstacked[\"transformer\"]))\n",
    "print(cohen_d(accs_unstacked[\"lstm\"], accs_unstacked[\"transformer\"]))"
   ]
  },
  {
   "cell_type": "markdown",
   "metadata": {},
   "source": [
    "## Filtered target data"
   ]
  },
  {
   "cell_type": "code",
   "execution_count": 17,
   "metadata": {},
   "outputs": [
    {
     "ename": "TypeError",
     "evalue": "mean() got an unexpected keyword argument 'level'",
     "output_type": "error",
     "traceback": [
      "\u001b[0;31m---------------------------------------------------------------------------\u001b[0m",
      "\u001b[0;31mTypeError\u001b[0m                                 Traceback (most recent call last)",
      "Cell \u001b[0;32mIn[17], line 3\u001b[0m\n\u001b[1;32m      1\u001b[0m filtered_accs_by_arch \u001b[38;5;241m=\u001b[39m filter_target_data\u001b[38;5;241m.\u001b[39mgroupby([\u001b[38;5;124m\"\u001b[39m\u001b[38;5;124mcorpus\u001b[39m\u001b[38;5;124m\"\u001b[39m, \u001b[38;5;124m\"\u001b[39m\u001b[38;5;124march\u001b[39m\u001b[38;5;124m\"\u001b[39m])[\u001b[38;5;124m\"\u001b[39m\u001b[38;5;124mblimp_acc\u001b[39m\u001b[38;5;124m\"\u001b[39m]\u001b[38;5;241m.\u001b[39mmean()\n\u001b[1;32m      2\u001b[0m filtered_accs_unstacked \u001b[38;5;241m=\u001b[39m filtered_accs_by_arch\u001b[38;5;241m.\u001b[39munstack(level\u001b[38;5;241m=\u001b[39m\u001b[38;5;124m\"\u001b[39m\u001b[38;5;124march\u001b[39m\u001b[38;5;124m\"\u001b[39m)\n\u001b[0;32m----> 3\u001b[0m \u001b[38;5;28mprint\u001b[39m(\u001b[43mfiltered_accs_by_arch\u001b[49m\u001b[38;5;241;43m.\u001b[39;49m\u001b[43mmean\u001b[49m\u001b[43m(\u001b[49m\u001b[43mlevel\u001b[49m\u001b[38;5;241;43m=\u001b[39;49m\u001b[38;5;124;43m\"\u001b[39;49m\u001b[38;5;124;43march\u001b[39;49m\u001b[38;5;124;43m\"\u001b[39;49m\u001b[43m)\u001b[49m)\n\u001b[1;32m      4\u001b[0m \u001b[38;5;28mprint\u001b[39m(scipy\u001b[38;5;241m.\u001b[39mstats\u001b[38;5;241m.\u001b[39mttest_rel(filtered_accs_unstacked[\u001b[38;5;124m\"\u001b[39m\u001b[38;5;124mlstm\u001b[39m\u001b[38;5;124m\"\u001b[39m], filtered_accs_unstacked[\u001b[38;5;124m\"\u001b[39m\u001b[38;5;124mtransformer\u001b[39m\u001b[38;5;124m\"\u001b[39m]))\n\u001b[1;32m      5\u001b[0m \u001b[38;5;28mprint\u001b[39m(cohen_d(filtered_accs_unstacked[\u001b[38;5;124m\"\u001b[39m\u001b[38;5;124mlstm\u001b[39m\u001b[38;5;124m\"\u001b[39m], filtered_accs_unstacked[\u001b[38;5;124m\"\u001b[39m\u001b[38;5;124mtransformer\u001b[39m\u001b[38;5;124m\"\u001b[39m]))\n",
      "File \u001b[0;32m~/opt/anaconda3/envs/corpus-filtering/lib/python3.9/site-packages/pandas/core/series.py:6549\u001b[0m, in \u001b[0;36mSeries.mean\u001b[0;34m(self, axis, skipna, numeric_only, **kwargs)\u001b[0m\n\u001b[1;32m   6541\u001b[0m \u001b[38;5;129m@doc\u001b[39m(make_doc(\u001b[38;5;124m\"\u001b[39m\u001b[38;5;124mmean\u001b[39m\u001b[38;5;124m\"\u001b[39m, ndim\u001b[38;5;241m=\u001b[39m\u001b[38;5;241m1\u001b[39m))\n\u001b[1;32m   6542\u001b[0m \u001b[38;5;28;01mdef\u001b[39;00m \u001b[38;5;21mmean\u001b[39m(\n\u001b[1;32m   6543\u001b[0m     \u001b[38;5;28mself\u001b[39m,\n\u001b[0;32m   (...)\u001b[0m\n\u001b[1;32m   6547\u001b[0m     \u001b[38;5;241m*\u001b[39m\u001b[38;5;241m*\u001b[39mkwargs,\n\u001b[1;32m   6548\u001b[0m ):\n\u001b[0;32m-> 6549\u001b[0m     \u001b[38;5;28;01mreturn\u001b[39;00m \u001b[43mNDFrame\u001b[49m\u001b[38;5;241;43m.\u001b[39;49m\u001b[43mmean\u001b[49m\u001b[43m(\u001b[49m\u001b[38;5;28;43mself\u001b[39;49m\u001b[43m,\u001b[49m\u001b[43m \u001b[49m\u001b[43maxis\u001b[49m\u001b[43m,\u001b[49m\u001b[43m \u001b[49m\u001b[43mskipna\u001b[49m\u001b[43m,\u001b[49m\u001b[43m \u001b[49m\u001b[43mnumeric_only\u001b[49m\u001b[43m,\u001b[49m\u001b[43m \u001b[49m\u001b[38;5;241;43m*\u001b[39;49m\u001b[38;5;241;43m*\u001b[39;49m\u001b[43mkwargs\u001b[49m\u001b[43m)\u001b[49m\n",
      "File \u001b[0;32m~/opt/anaconda3/envs/corpus-filtering/lib/python3.9/site-packages/pandas/core/generic.py:12420\u001b[0m, in \u001b[0;36mNDFrame.mean\u001b[0;34m(self, axis, skipna, numeric_only, **kwargs)\u001b[0m\n\u001b[1;32m  12413\u001b[0m \u001b[38;5;28;01mdef\u001b[39;00m \u001b[38;5;21mmean\u001b[39m(\n\u001b[1;32m  12414\u001b[0m     \u001b[38;5;28mself\u001b[39m,\n\u001b[1;32m  12415\u001b[0m     axis: Axis \u001b[38;5;241m|\u001b[39m \u001b[38;5;28;01mNone\u001b[39;00m \u001b[38;5;241m=\u001b[39m \u001b[38;5;241m0\u001b[39m,\n\u001b[0;32m   (...)\u001b[0m\n\u001b[1;32m  12418\u001b[0m     \u001b[38;5;241m*\u001b[39m\u001b[38;5;241m*\u001b[39mkwargs,\n\u001b[1;32m  12419\u001b[0m ) \u001b[38;5;241m-\u001b[39m\u001b[38;5;241m>\u001b[39m Series \u001b[38;5;241m|\u001b[39m \u001b[38;5;28mfloat\u001b[39m:\n\u001b[0;32m> 12420\u001b[0m     \u001b[38;5;28;01mreturn\u001b[39;00m \u001b[38;5;28;43mself\u001b[39;49m\u001b[38;5;241;43m.\u001b[39;49m\u001b[43m_stat_function\u001b[49m\u001b[43m(\u001b[49m\n\u001b[1;32m  12421\u001b[0m \u001b[43m        \u001b[49m\u001b[38;5;124;43m\"\u001b[39;49m\u001b[38;5;124;43mmean\u001b[39;49m\u001b[38;5;124;43m\"\u001b[39;49m\u001b[43m,\u001b[49m\u001b[43m \u001b[49m\u001b[43mnanops\u001b[49m\u001b[38;5;241;43m.\u001b[39;49m\u001b[43mnanmean\u001b[49m\u001b[43m,\u001b[49m\u001b[43m \u001b[49m\u001b[43maxis\u001b[49m\u001b[43m,\u001b[49m\u001b[43m \u001b[49m\u001b[43mskipna\u001b[49m\u001b[43m,\u001b[49m\u001b[43m \u001b[49m\u001b[43mnumeric_only\u001b[49m\u001b[43m,\u001b[49m\u001b[43m \u001b[49m\u001b[38;5;241;43m*\u001b[39;49m\u001b[38;5;241;43m*\u001b[39;49m\u001b[43mkwargs\u001b[49m\n\u001b[1;32m  12422\u001b[0m \u001b[43m    \u001b[49m\u001b[43m)\u001b[49m\n",
      "File \u001b[0;32m~/opt/anaconda3/envs/corpus-filtering/lib/python3.9/site-packages/pandas/core/generic.py:12373\u001b[0m, in \u001b[0;36mNDFrame._stat_function\u001b[0;34m(self, name, func, axis, skipna, numeric_only, **kwargs)\u001b[0m\n\u001b[1;32m  12362\u001b[0m \u001b[38;5;129m@final\u001b[39m\n\u001b[1;32m  12363\u001b[0m \u001b[38;5;28;01mdef\u001b[39;00m \u001b[38;5;21m_stat_function\u001b[39m(\n\u001b[1;32m  12364\u001b[0m     \u001b[38;5;28mself\u001b[39m,\n\u001b[0;32m   (...)\u001b[0m\n\u001b[1;32m  12370\u001b[0m     \u001b[38;5;241m*\u001b[39m\u001b[38;5;241m*\u001b[39mkwargs,\n\u001b[1;32m  12371\u001b[0m ):\n\u001b[1;32m  12372\u001b[0m     \u001b[38;5;28;01massert\u001b[39;00m name \u001b[38;5;129;01min\u001b[39;00m [\u001b[38;5;124m\"\u001b[39m\u001b[38;5;124mmedian\u001b[39m\u001b[38;5;124m\"\u001b[39m, \u001b[38;5;124m\"\u001b[39m\u001b[38;5;124mmean\u001b[39m\u001b[38;5;124m\"\u001b[39m, \u001b[38;5;124m\"\u001b[39m\u001b[38;5;124mmin\u001b[39m\u001b[38;5;124m\"\u001b[39m, \u001b[38;5;124m\"\u001b[39m\u001b[38;5;124mmax\u001b[39m\u001b[38;5;124m\"\u001b[39m, \u001b[38;5;124m\"\u001b[39m\u001b[38;5;124mkurt\u001b[39m\u001b[38;5;124m\"\u001b[39m, \u001b[38;5;124m\"\u001b[39m\u001b[38;5;124mskew\u001b[39m\u001b[38;5;124m\"\u001b[39m], name\n\u001b[0;32m> 12373\u001b[0m     \u001b[43mnv\u001b[49m\u001b[38;5;241;43m.\u001b[39;49m\u001b[43mvalidate_func\u001b[49m\u001b[43m(\u001b[49m\u001b[43mname\u001b[49m\u001b[43m,\u001b[49m\u001b[43m \u001b[49m\u001b[43m(\u001b[49m\u001b[43m)\u001b[49m\u001b[43m,\u001b[49m\u001b[43m \u001b[49m\u001b[43mkwargs\u001b[49m\u001b[43m)\u001b[49m\n\u001b[1;32m  12375\u001b[0m     validate_bool_kwarg(skipna, \u001b[38;5;124m\"\u001b[39m\u001b[38;5;124mskipna\u001b[39m\u001b[38;5;124m\"\u001b[39m, none_allowed\u001b[38;5;241m=\u001b[39m\u001b[38;5;28;01mFalse\u001b[39;00m)\n\u001b[1;32m  12377\u001b[0m     \u001b[38;5;28;01mreturn\u001b[39;00m \u001b[38;5;28mself\u001b[39m\u001b[38;5;241m.\u001b[39m_reduce(\n\u001b[1;32m  12378\u001b[0m         func, name\u001b[38;5;241m=\u001b[39mname, axis\u001b[38;5;241m=\u001b[39maxis, skipna\u001b[38;5;241m=\u001b[39mskipna, numeric_only\u001b[38;5;241m=\u001b[39mnumeric_only\n\u001b[1;32m  12379\u001b[0m     )\n",
      "File \u001b[0;32m~/opt/anaconda3/envs/corpus-filtering/lib/python3.9/site-packages/pandas/compat/numpy/function.py:418\u001b[0m, in \u001b[0;36mvalidate_func\u001b[0;34m(fname, args, kwargs)\u001b[0m\n\u001b[1;32m    415\u001b[0m     \u001b[38;5;28;01mreturn\u001b[39;00m validate_stat_func(args, kwargs, fname\u001b[38;5;241m=\u001b[39mfname)\n\u001b[1;32m    417\u001b[0m validation_func \u001b[38;5;241m=\u001b[39m _validation_funcs[fname]\n\u001b[0;32m--> 418\u001b[0m \u001b[38;5;28;01mreturn\u001b[39;00m \u001b[43mvalidation_func\u001b[49m\u001b[43m(\u001b[49m\u001b[43margs\u001b[49m\u001b[43m,\u001b[49m\u001b[43m \u001b[49m\u001b[43mkwargs\u001b[49m\u001b[43m)\u001b[49m\n",
      "File \u001b[0;32m~/opt/anaconda3/envs/corpus-filtering/lib/python3.9/site-packages/pandas/compat/numpy/function.py:88\u001b[0m, in \u001b[0;36mCompatValidator.__call__\u001b[0;34m(self, args, kwargs, fname, max_fname_arg_count, method)\u001b[0m\n\u001b[1;32m     86\u001b[0m     validate_kwargs(fname, kwargs, \u001b[38;5;28mself\u001b[39m\u001b[38;5;241m.\u001b[39mdefaults)\n\u001b[1;32m     87\u001b[0m \u001b[38;5;28;01melif\u001b[39;00m method \u001b[38;5;241m==\u001b[39m \u001b[38;5;124m\"\u001b[39m\u001b[38;5;124mboth\u001b[39m\u001b[38;5;124m\"\u001b[39m:\n\u001b[0;32m---> 88\u001b[0m     \u001b[43mvalidate_args_and_kwargs\u001b[49m\u001b[43m(\u001b[49m\n\u001b[1;32m     89\u001b[0m \u001b[43m        \u001b[49m\u001b[43mfname\u001b[49m\u001b[43m,\u001b[49m\u001b[43m \u001b[49m\u001b[43margs\u001b[49m\u001b[43m,\u001b[49m\u001b[43m \u001b[49m\u001b[43mkwargs\u001b[49m\u001b[43m,\u001b[49m\u001b[43m \u001b[49m\u001b[43mmax_fname_arg_count\u001b[49m\u001b[43m,\u001b[49m\u001b[43m \u001b[49m\u001b[38;5;28;43mself\u001b[39;49m\u001b[38;5;241;43m.\u001b[39;49m\u001b[43mdefaults\u001b[49m\n\u001b[1;32m     90\u001b[0m \u001b[43m    \u001b[49m\u001b[43m)\u001b[49m\n\u001b[1;32m     91\u001b[0m \u001b[38;5;28;01melse\u001b[39;00m:\n\u001b[1;32m     92\u001b[0m     \u001b[38;5;28;01mraise\u001b[39;00m \u001b[38;5;167;01mValueError\u001b[39;00m(\u001b[38;5;124mf\u001b[39m\u001b[38;5;124m\"\u001b[39m\u001b[38;5;124minvalid validation method \u001b[39m\u001b[38;5;124m'\u001b[39m\u001b[38;5;132;01m{\u001b[39;00mmethod\u001b[38;5;132;01m}\u001b[39;00m\u001b[38;5;124m'\u001b[39m\u001b[38;5;124m\"\u001b[39m)\n",
      "File \u001b[0;32m~/opt/anaconda3/envs/corpus-filtering/lib/python3.9/site-packages/pandas/util/_validators.py:223\u001b[0m, in \u001b[0;36mvalidate_args_and_kwargs\u001b[0;34m(fname, args, kwargs, max_fname_arg_count, compat_args)\u001b[0m\n\u001b[1;32m    218\u001b[0m         \u001b[38;5;28;01mraise\u001b[39;00m \u001b[38;5;167;01mTypeError\u001b[39;00m(\n\u001b[1;32m    219\u001b[0m             \u001b[38;5;124mf\u001b[39m\u001b[38;5;124m\"\u001b[39m\u001b[38;5;132;01m{\u001b[39;00mfname\u001b[38;5;132;01m}\u001b[39;00m\u001b[38;5;124m() got multiple values for keyword argument \u001b[39m\u001b[38;5;124m'\u001b[39m\u001b[38;5;132;01m{\u001b[39;00mkey\u001b[38;5;132;01m}\u001b[39;00m\u001b[38;5;124m'\u001b[39m\u001b[38;5;124m\"\u001b[39m\n\u001b[1;32m    220\u001b[0m         )\n\u001b[1;32m    222\u001b[0m kwargs\u001b[38;5;241m.\u001b[39mupdate(args_dict)\n\u001b[0;32m--> 223\u001b[0m \u001b[43mvalidate_kwargs\u001b[49m\u001b[43m(\u001b[49m\u001b[43mfname\u001b[49m\u001b[43m,\u001b[49m\u001b[43m \u001b[49m\u001b[43mkwargs\u001b[49m\u001b[43m,\u001b[49m\u001b[43m \u001b[49m\u001b[43mcompat_args\u001b[49m\u001b[43m)\u001b[49m\n",
      "File \u001b[0;32m~/opt/anaconda3/envs/corpus-filtering/lib/python3.9/site-packages/pandas/util/_validators.py:164\u001b[0m, in \u001b[0;36mvalidate_kwargs\u001b[0;34m(fname, kwargs, compat_args)\u001b[0m\n\u001b[1;32m    142\u001b[0m \u001b[38;5;250m\u001b[39m\u001b[38;5;124;03m\"\"\"\u001b[39;00m\n\u001b[1;32m    143\u001b[0m \u001b[38;5;124;03mChecks whether parameters passed to the **kwargs argument in a\u001b[39;00m\n\u001b[1;32m    144\u001b[0m \u001b[38;5;124;03mfunction `fname` are valid parameters as specified in `*compat_args`\u001b[39;00m\n\u001b[0;32m   (...)\u001b[0m\n\u001b[1;32m    161\u001b[0m \u001b[38;5;124;03mmap to the default values specified in `compat_args`\u001b[39;00m\n\u001b[1;32m    162\u001b[0m \u001b[38;5;124;03m\"\"\"\u001b[39;00m\n\u001b[1;32m    163\u001b[0m kwds \u001b[38;5;241m=\u001b[39m kwargs\u001b[38;5;241m.\u001b[39mcopy()\n\u001b[0;32m--> 164\u001b[0m \u001b[43m_check_for_invalid_keys\u001b[49m\u001b[43m(\u001b[49m\u001b[43mfname\u001b[49m\u001b[43m,\u001b[49m\u001b[43m \u001b[49m\u001b[43mkwargs\u001b[49m\u001b[43m,\u001b[49m\u001b[43m \u001b[49m\u001b[43mcompat_args\u001b[49m\u001b[43m)\u001b[49m\n\u001b[1;32m    165\u001b[0m _check_for_default_values(fname, kwds, compat_args)\n",
      "File \u001b[0;32m~/opt/anaconda3/envs/corpus-filtering/lib/python3.9/site-packages/pandas/util/_validators.py:138\u001b[0m, in \u001b[0;36m_check_for_invalid_keys\u001b[0;34m(fname, kwargs, compat_args)\u001b[0m\n\u001b[1;32m    136\u001b[0m \u001b[38;5;28;01mif\u001b[39;00m diff:\n\u001b[1;32m    137\u001b[0m     bad_arg \u001b[38;5;241m=\u001b[39m \u001b[38;5;28mnext\u001b[39m(\u001b[38;5;28miter\u001b[39m(diff))\n\u001b[0;32m--> 138\u001b[0m     \u001b[38;5;28;01mraise\u001b[39;00m \u001b[38;5;167;01mTypeError\u001b[39;00m(\u001b[38;5;124mf\u001b[39m\u001b[38;5;124m\"\u001b[39m\u001b[38;5;132;01m{\u001b[39;00mfname\u001b[38;5;132;01m}\u001b[39;00m\u001b[38;5;124m() got an unexpected keyword argument \u001b[39m\u001b[38;5;124m'\u001b[39m\u001b[38;5;132;01m{\u001b[39;00mbad_arg\u001b[38;5;132;01m}\u001b[39;00m\u001b[38;5;124m'\u001b[39m\u001b[38;5;124m\"\u001b[39m)\n",
      "\u001b[0;31mTypeError\u001b[0m: mean() got an unexpected keyword argument 'level'"
     ]
    }
   ],
   "source": [
    "filtered_accs_by_arch = filter_target_data.groupby([\"corpus\", \"arch\"])[\"blimp_acc\"].mean()\n",
    "filtered_accs_unstacked = filtered_accs_by_arch.unstack(level=\"arch\")\n",
    "print(filtered_accs_unstacked.mean())\n",
    "print(scipy.stats.ttest_rel(filtered_accs_unstacked[\"lstm\"], filtered_accs_unstacked[\"transformer\"]))\n",
    "print(cohen_d(filtered_accs_unstacked[\"lstm\"], filtered_accs_unstacked[\"transformer\"]))"
   ]
  },
  {
   "cell_type": "code",
   "execution_count": null,
   "metadata": {},
   "outputs": [],
   "source": [
    "mixed_test_ppl_model = smf.mixedlm(\"test_ppl ~ corpus_tokens\", main_data, groups=main_data[\"arch\"])\n",
    "mixed_test_ppl_result = mixed_test_ppl_model.fit()\n",
    "print(mixed_test_ppl_result.summary())\n",
    "\n",
    "fixed_test_ppl_model = smf.ols(\"test_ppl ~ corpus_tokens + arch + corpus_tokens*arch\", main_data)\n",
    "fixed_test_ppl_result = fixed_test_ppl_model.fit()\n",
    "print(fixed_test_ppl_result.summary())\n",
    "\n",
    "print(sm.stats.anova_lm(fixed_test_ppl_result, mixed_test_ppl_result))\n",
    "\n",
    "lstm_test_ppl_model = smf.ols(\"test_ppl ~ corpus_tokens\", main_data[main_data[\"arch\"] == \"lstm\"])\n",
    "lstm_test_ppl_result = lstm_test_ppl_model.fit()\n",
    "print(lstm_test_ppl_result.summary())\n",
    "\n",
    "print(scipy.stats.pearsonr(main_data[main_data[\"arch\"]==\"lstm\"][\"corpus_tokens\"], main_data[main_data[\"arch\"]==\"lstm\"][\"test_ppl\"]))"
   ]
  },
  {
   "cell_type": "code",
   "execution_count": null,
   "metadata": {},
   "outputs": [],
   "source": []
  }
 ],
 "metadata": {
  "kernelspec": {
   "display_name": "corpus-filtering",
   "language": "python",
   "name": "python3"
  },
  "language_info": {
   "codemirror_mode": {
    "name": "ipython",
    "version": 3
   },
   "file_extension": ".py",
   "mimetype": "text/x-python",
   "name": "python",
   "nbconvert_exporter": "python",
   "pygments_lexer": "ipython3",
   "version": "3.9.16"
  }
 },
 "nbformat": 4,
 "nbformat_minor": 2
}
