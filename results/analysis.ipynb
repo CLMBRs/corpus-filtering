{
 "cells": [
  {
   "cell_type": "code",
   "execution_count": 2,
   "metadata": {},
   "outputs": [],
   "source": [
    "import pandas as pd\n",
    "import scipy\n",
    "import statsmodels.api as sm\n",
    "import statsmodels.formula.api as smf"
   ]
  },
  {
   "cell_type": "code",
   "execution_count": 3,
   "metadata": {},
   "outputs": [
    {
     "name": "stdout",
     "output_type": "stream",
     "text": [
      "{'npi-sent-neg', 'npi-only', 'npi-sim-ques', 'existential-there-quantifier', 'pp-mod-subj', 'binding-c-command', 'binding-case', 'rel-cl', 'binding-reconstruction', 'det-noun', 'full', 'det-adj-noun', 'passive', 'binding-domain', 're-irr-sv-agr', 'superlative-quantifier'}\n",
      "{'superlative_quantifiers_2', 'distractor_agreement_relative_clause', 'principle_A_c_command', 'distractor_agreement_relational_noun', 'regular_plural_subject_verb_agreement_1', 'irregular_plural_subject_verb_agreement_1', 'determiner_noun_agreement_with_adj_irregular_1', 'principle_A_case_2', 'sentential_negation_npi_scope', 'principle_A_domain_3', 'principle_A_case_1', 'determiner_noun_agreement_irregular_2', 'determiner_noun_agreement_with_adj_irregular_2', 'regular_plural_subject_verb_agreement_2', 'determiner_noun_agreement_with_adjective_1', 'matrix_question_npi_licensor_present', 'determiner_noun_agreement_1', 'only_npi_licensor_present', 'determiner_noun_agreement_irregular_1', 'determiner_noun_agreement_2', 'passive_2', 'existential_there_quantifiers_1', 'superlative_quantifiers_1', 'determiner_noun_agreement_with_adj_2', 'sentential_negation_npi_licensor_present', 'principle_A_domain_2', 'passive_1', 'principle_A_domain_1', 'irregular_plural_subject_verb_agreement_2', 'principle_A_reconstruction', 'only_npi_scope'}\n"
     ]
    }
   ],
   "source": [
    "blimp_corpus_map = {\n",
    "    \"full\": [],\n",
    "    \"pp-mod-subj\": [\"distractor_agreement_relational_noun\"],\n",
    "    \"rel-cl\": [\"distractor_agreement_relative_clause\"],\n",
    "    \"re-irr-sv-agr\": [\n",
    "        \"irregular_plural_subject_verb_agreement_1\",\n",
    "        \"irregular_plural_subject_verb_agreement_2\",\n",
    "        \"regular_plural_subject_verb_agreement_1\",\n",
    "        \"regular_plural_subject_verb_agreement_2\",\n",
    "    ],\n",
    "    \"npi-only\": [\"only_npi_licensor_present\", \"only_npi_scope\"],\n",
    "    \"npi-sent-neg\": [\n",
    "        \"sentential_negation_npi_licensor_present\",\n",
    "        \"sentential_negation_npi_scope\",\n",
    "    ],\n",
    "    \"npi-sim-ques\": [\"matrix_question_npi_licensor_present\"],\n",
    "    \"superlative-quantifier\": [\n",
    "        \"superlative_quantifiers_1\",\n",
    "        \"superlative_quantifiers_2\",\n",
    "    ],\n",
    "    \"existential-there-quantifier\": [\"existential_there_quantifiers_1\"],\n",
    "    \"binding-c-command\": [\"principle_A_c_command\"],\n",
    "    \"binding-case\": [\"principle_A_case_1\", \"principle_A_case_2\"],\n",
    "    \"binding-domain\": [\n",
    "        \"principle_A_domain_1\",\n",
    "        \"principle_A_domain_2\",\n",
    "        \"principle_A_domain_3\",\n",
    "    ],\n",
    "    \"binding-reconstruction\": [\"principle_A_reconstruction\"],\n",
    "    \"passive\": [\"passive_1\", \"passive_2\"],\n",
    "    \"det-adj-noun\": [\n",
    "        \"determiner_noun_agreement_with_adjective_1\",\n",
    "        \"determiner_noun_agreement_with_adj_2\",\n",
    "        \"determiner_noun_agreement_with_adj_irregular_1\",\n",
    "        \"determiner_noun_agreement_with_adj_irregular_2\",\n",
    "    ],\n",
    "    \"det-noun\": [\n",
    "        \"determiner_noun_agreement_1\",\n",
    "        \"determiner_noun_agreement_2\",\n",
    "        \"determiner_noun_agreement_irregular_1\",\n",
    "        \"determiner_noun_agreement_irregular_2\",\n",
    "    ],\n",
    "}\n",
    "all_filters = set(blimp_corpus_map.keys())\n",
    "benchmarks_with_filters = set([_ for xs in blimp_corpus_map.values() for _ in xs])\n",
    "print(all_filters)\n",
    "print(benchmarks_with_filters)"
   ]
  },
  {
   "cell_type": "markdown",
   "metadata": {},
   "source": [
    "# Read the main data"
   ]
  },
  {
   "cell_type": "code",
   "execution_count": 4,
   "metadata": {},
   "outputs": [
    {
     "name": "stdout",
     "output_type": "stream",
     "text": [
      "Index(['corpus', 'arch', 'seed', 'validation_loss', 'validation_ppl',\n",
      "       'test_loss', 'test_ppl', 'blimp_benchmark', 'blimp_acc',\n",
      "       'filter_target', 'z_validation_ppl', 'z_validation_loss', 'z_test_ppl',\n",
      "       'z_test_loss', 'full_same_seed_acc', 'blimp_delta_same_seed',\n",
      "       'full_all_seed_avg_acc', 'blimp_delta', 'field', 'linguistics_term',\n",
      "       'corpus_tokens'],\n",
      "      dtype='object')\n",
      "        corpus         arch  seed  validation_loss  validation_ppl  test_loss  \\\n",
      "0         full  transformer     0         3.841752       46.607061   3.845174   \n",
      "1         full  transformer     1         3.840523       46.549825   3.844156   \n",
      "2         full  transformer     2         3.840050       46.527789   3.843551   \n",
      "3         full  transformer     3         3.841511       46.595850   3.844735   \n",
      "4         full  transformer     4         3.842284       46.631870   3.846043   \n",
      "...        ...          ...   ...              ...             ...        ...   \n",
      "10715  passive         lstm     0         3.975108       53.255876   3.977766   \n",
      "10716  passive         lstm     1         3.975204       53.261006   3.978100   \n",
      "10717  passive         lstm     2         3.974197       53.207382   3.977306   \n",
      "10718  passive         lstm     3         3.975786       53.291974   3.978186   \n",
      "10719  passive         lstm     4         3.977474       53.382045   3.980730   \n",
      "\n",
      "        test_ppl                    blimp_benchmark  blimp_acc  filter_target  \\\n",
      "0      46.766802                     adjunct_island      0.726          False   \n",
      "1      46.719216                     adjunct_island      0.654          False   \n",
      "2      46.690965                     adjunct_island      0.668          False   \n",
      "3      46.746313                     adjunct_island      0.814          False   \n",
      "4      46.807473                     adjunct_island      0.665          False   \n",
      "...          ...                                ...        ...            ...   \n",
      "10715  53.397600  wh_vs_that_with_gap_long_distance      0.137          False   \n",
      "10716  53.415426  wh_vs_that_with_gap_long_distance      0.164          False   \n",
      "10717  53.373047  wh_vs_that_with_gap_long_distance      0.121          False   \n",
      "10718  53.420024  wh_vs_that_with_gap_long_distance      0.091          False   \n",
      "10719  53.556119  wh_vs_that_with_gap_long_distance      0.125          False   \n",
      "\n",
      "       ...  z_validation_loss  z_test_ppl  z_test_loss  full_same_seed_acc  \\\n",
      "0      ...          -1.096013   -1.089433    -1.096798               0.726   \n",
      "1      ...          -1.114756   -1.103922    -1.112395               0.654   \n",
      "2      ...          -1.121978   -1.112524    -1.121662               0.668   \n",
      "3      ...          -1.099682   -1.095671    -1.103512               0.814   \n",
      "4      ...          -1.087896   -1.077049    -1.083481               0.665   \n",
      "...    ...                ...         ...          ...                 ...   \n",
      "10715  ...           0.938086    0.929552     0.934563               0.144   \n",
      "10716  ...           0.939555    0.934980     0.939677               0.139   \n",
      "10717  ...           0.924191    0.922076     0.927517               0.161   \n",
      "10718  ...           0.948421    0.936380     0.940995               0.156   \n",
      "10719  ...           0.974180    0.977819     0.979977               0.087   \n",
      "\n",
      "       blimp_delta_same_seed  full_all_seed_avg_acc  blimp_delta   field  \\\n",
      "0                      0.000                 0.7054       0.0206  syntax   \n",
      "1                      0.000                 0.7054      -0.0514  syntax   \n",
      "2                      0.000                 0.7054      -0.0374  syntax   \n",
      "3                      0.000                 0.7054       0.1086  syntax   \n",
      "4                      0.000                 0.7054      -0.0404  syntax   \n",
      "...                      ...                    ...          ...     ...   \n",
      "10715                 -0.007                 0.1374      -0.0004  syntax   \n",
      "10716                  0.025                 0.1374       0.0266  syntax   \n",
      "10717                 -0.040                 0.1374      -0.0164  syntax   \n",
      "10718                 -0.065                 0.1374      -0.0464  syntax   \n",
      "10719                  0.038                 0.1374      -0.0124  syntax   \n",
      "\n",
      "            linguistics_term corpus_tokens  \n",
      "0             island_effects      66442068  \n",
      "1             island_effects      66442068  \n",
      "2             island_effects      66442068  \n",
      "3             island_effects      66442068  \n",
      "4             island_effects      66442068  \n",
      "...                      ...           ...  \n",
      "10715  filler_gap_dependency      66155000  \n",
      "10716  filler_gap_dependency      66155000  \n",
      "10717  filler_gap_dependency      66155000  \n",
      "10718  filler_gap_dependency      66155000  \n",
      "10719  filler_gap_dependency      66155000  \n",
      "\n",
      "[10720 rows x 21 columns]\n",
      "                      corpus         arch  seed  validation_loss  \\\n",
      "1580                det-noun  transformer     0         3.843544   \n",
      "1581                det-noun  transformer     1         3.842465   \n",
      "1582                det-noun  transformer     2         3.842910   \n",
      "1583                det-noun  transformer     3         3.842438   \n",
      "1584                det-noun  transformer     4         3.842675   \n",
      "...                      ...          ...   ...              ...   \n",
      "8875  superlative-quantifier         lstm     0         3.989485   \n",
      "8876  superlative-quantifier         lstm     1         3.985262   \n",
      "8877  superlative-quantifier         lstm     2         3.985582   \n",
      "8878  superlative-quantifier         lstm     3         3.989296   \n",
      "8879  superlative-quantifier         lstm     4         3.989758   \n",
      "\n",
      "      validation_ppl  test_loss   test_ppl              blimp_benchmark  \\\n",
      "1580       46.690676   3.847355  46.868914  determiner_noun_agreement_1   \n",
      "1581       46.640309   3.846273  46.818244  determiner_noun_agreement_1   \n",
      "1582       46.661052   3.845873  46.799539  determiner_noun_agreement_1   \n",
      "1583       46.639063   3.845911  46.801313  determiner_noun_agreement_1   \n",
      "1584       46.650084   3.846630  46.834957  determiner_noun_agreement_1   \n",
      "...              ...        ...        ...                          ...   \n",
      "8875       54.027060   3.991968  54.161370    superlative_quantifiers_2   \n",
      "8876       53.799379   3.987931  53.943153    superlative_quantifiers_2   \n",
      "8877       53.816595   3.988850  53.992781    superlative_quantifiers_2   \n",
      "8878       54.016846   3.991887  54.156966    superlative_quantifiers_2   \n",
      "8879       54.041798   3.992677  54.199774    superlative_quantifiers_2   \n",
      "\n",
      "      blimp_acc  filter_target  ...  z_validation_loss  z_test_ppl  \\\n",
      "1580      0.919           True  ...          -1.068672   -1.058341   \n",
      "1581      0.902           True  ...          -1.085135   -1.073770   \n",
      "1582      0.906           True  ...          -1.078353   -1.079465   \n",
      "1583      0.907           True  ...          -1.085543   -1.078925   \n",
      "1584      0.911           True  ...          -1.081939   -1.068681   \n",
      "...         ...            ...  ...                ...         ...   \n",
      "8875      0.576           True  ...           1.157379    1.162109   \n",
      "8876      0.561           True  ...           1.092963    1.095665   \n",
      "8877      0.433           True  ...           1.097843    1.110776   \n",
      "8878      0.481           True  ...           1.154495    1.160768   \n",
      "8879      0.572           True  ...           1.161539    1.173803   \n",
      "\n",
      "      z_test_loss  full_same_seed_acc  blimp_delta_same_seed  \\\n",
      "1580    -1.063384               0.885                  0.034   \n",
      "1581    -1.079956               0.925                 -0.023   \n",
      "1582    -1.086078               0.912                 -0.006   \n",
      "1583    -1.085497               0.918                 -0.011   \n",
      "1584    -1.074488               0.896                  0.015   \n",
      "...           ...                 ...                    ...   \n",
      "8875     1.152145               0.544                  0.032   \n",
      "8876     1.090294               0.545                  0.016   \n",
      "8877     1.104382               0.577                 -0.144   \n",
      "8878     1.150899               0.458                  0.023   \n",
      "8879     1.163004               0.507                  0.065   \n",
      "\n",
      "      full_all_seed_avg_acc  blimp_delta       field  \\\n",
      "1580                 0.9072       0.0118  morphology   \n",
      "1581                 0.9072      -0.0052  morphology   \n",
      "1582                 0.9072      -0.0012  morphology   \n",
      "1583                 0.9072      -0.0002  morphology   \n",
      "1584                 0.9072       0.0038  morphology   \n",
      "...                     ...          ...         ...   \n",
      "8875                 0.5262       0.0498   semantics   \n",
      "8876                 0.5262       0.0348   semantics   \n",
      "8877                 0.5262      -0.0932   semantics   \n",
      "8878                 0.5262      -0.0452   semantics   \n",
      "8879                 0.5262       0.0458   semantics   \n",
      "\n",
      "               linguistics_term corpus_tokens  \n",
      "1580  determiner_noun_agreement      66406785  \n",
      "1581  determiner_noun_agreement      66406785  \n",
      "1582  determiner_noun_agreement      66406785  \n",
      "1583  determiner_noun_agreement      66406785  \n",
      "1584  determiner_noun_agreement      66406785  \n",
      "...                         ...           ...  \n",
      "8875                quantifiers      64929456  \n",
      "8876                quantifiers      64929456  \n",
      "8877                quantifiers      64929456  \n",
      "8878                quantifiers      64929456  \n",
      "8879                quantifiers      64929456  \n",
      "\n",
      "[310 rows x 21 columns]\n"
     ]
    }
   ],
   "source": [
    "main_data = pd.read_csv(\"data/tidy_results.csv\", index_col=0)\n",
    "main_data = main_data.rename(columns = {\"blimp_delta_all_seed_avg\": \"blimp_delta\"})\n",
    "print(main_data.columns)\n",
    "print(main_data)\n",
    "\n",
    "filter_target_data = main_data[main_data[\"filter_target\"] == True]\n",
    "print(filter_target_data)"
   ]
  },
  {
   "cell_type": "markdown",
   "metadata": {},
   "source": [
    "# Basic descriptive stats"
   ]
  },
  {
   "cell_type": "code",
   "execution_count": 5,
   "metadata": {},
   "outputs": [],
   "source": [
    "# group data by corpus and architecture, take the mean test ppl across seeds\n",
    "data_by_arch_and_corpus = main_data.groupby([\"corpus\", \"arch\"])"
   ]
  },
  {
   "cell_type": "code",
   "execution_count": 6,
   "metadata": {},
   "outputs": [],
   "source": [
    "def cohen_d(group1: pd.Series, group2: pd.Series) -> float:\n",
    "    n1, n2 = len(group1), len(group2)\n",
    "    s1, s2 = group1.std(), group2.std()\n",
    "    s = ((n1 - 1) * s1 ** 2 + (n2 - 1) * s2 ** 2) / (n1 + n2 - 2)\n",
    "    return (group1.mean() - group2.mean()) / (s ** 0.5)"
   ]
  },
  {
   "cell_type": "markdown",
   "metadata": {},
   "source": [
    "## Perplexities"
   ]
  },
  {
   "cell_type": "code",
   "execution_count": 7,
   "metadata": {},
   "outputs": [
    {
     "name": "stdout",
     "output_type": "stream",
     "text": [
      "arch\n",
      "lstm           53.557030\n",
      "transformer    47.132456\n",
      "dtype: float64\n",
      "TtestResult(statistic=270.8441367109314, pvalue=4.324417318161816e-29, df=15)\n",
      "9.14590781117233\n"
     ]
    }
   ],
   "source": [
    "ppls_by_arch = data_by_arch_and_corpus[\"test_ppl\"].mean()\n",
    "# ppls_by_arch = filter_target_data.groupby([\"corpus\", \"arch\"])[\"test_ppl\"].mean()\n",
    "# get the difference between lstm and transformer for each corpus\n",
    "ppl_unstacked = ppls_by_arch.unstack(level=\"arch\")\n",
    "\n",
    "# print the mean ppl for each architecture\n",
    "print(ppl_unstacked.mean())\n",
    "print(scipy.stats.ttest_rel(ppl_unstacked[\"lstm\"], ppl_unstacked[\"transformer\"]))\n",
    "print(cohen_d(ppl_unstacked[\"lstm\"], ppl_unstacked[\"transformer\"]))\n"
   ]
  },
  {
   "cell_type": "markdown",
   "metadata": {},
   "source": [
    "Correlation between ppl and corpus tokens by architecture:"
   ]
  },
  {
   "cell_type": "code",
   "execution_count": 11,
   "metadata": {},
   "outputs": [
    {
     "name": "stdout",
     "output_type": "stream",
     "text": [
      "PearsonRResult(statistic=-0.9694350791008717, pvalue=0.0)\n",
      "PearsonRResult(statistic=-0.9755968743080783, pvalue=0.0)\n"
     ]
    }
   ],
   "source": [
    "print(scipy.stats.pearsonr(main_data[main_data[\"arch\"]==\"lstm\"][\"corpus_tokens\"], main_data[main_data[\"arch\"]==\"lstm\"][\"test_ppl\"]))\n",
    "print(scipy.stats.pearsonr(main_data[main_data[\"arch\"]==\"transformer\"][\"corpus_tokens\"], main_data[main_data[\"arch\"]==\"transformer\"][\"test_ppl\"]))"
   ]
  },
  {
   "cell_type": "markdown",
   "metadata": {},
   "source": [
    "## BLiMP Accuracies"
   ]
  },
  {
   "cell_type": "markdown",
   "metadata": {},
   "source": [
    "## All data"
   ]
  },
  {
   "cell_type": "code",
   "execution_count": 8,
   "metadata": {},
   "outputs": [
    {
     "name": "stdout",
     "output_type": "stream",
     "text": [
      "arch\n",
      "lstm           0.704122\n",
      "transformer    0.718575\n",
      "dtype: float64\n",
      "TtestResult(statistic=-17.379131652852433, pvalue=2.3895394371004496e-11, df=15)\n",
      "-3.243116580968632\n"
     ]
    }
   ],
   "source": [
    "accs_by_arch = data_by_arch_and_corpus[\"blimp_acc\"].mean()\n",
    "accs_unstacked = accs_by_arch.unstack(level=\"arch\")\n",
    "print(accs_unstacked.mean())\n",
    "print(scipy.stats.ttest_rel(accs_unstacked[\"lstm\"], accs_unstacked[\"transformer\"]))\n",
    "print(cohen_d(accs_unstacked[\"lstm\"], accs_unstacked[\"transformer\"]))"
   ]
  },
  {
   "cell_type": "markdown",
   "metadata": {},
   "source": [
    "## Filtered target data"
   ]
  },
  {
   "cell_type": "code",
   "execution_count": 9,
   "metadata": {},
   "outputs": [
    {
     "name": "stdout",
     "output_type": "stream",
     "text": [
      "arch\n",
      "lstm           0.667328\n",
      "transformer    0.688174\n",
      "dtype: float64\n",
      "TtestResult(statistic=-1.1791799116654738, pvalue=0.25797842647470387, df=14)\n",
      "-0.11736564402587392\n"
     ]
    }
   ],
   "source": [
    "filtered_accs_by_arch = filter_target_data.groupby([\"corpus\", \"arch\"])[\"blimp_acc\"].mean()\n",
    "filtered_accs_unstacked = filtered_accs_by_arch.unstack(level=\"arch\")\n",
    "print(filtered_accs_unstacked.mean())\n",
    "print(scipy.stats.ttest_rel(filtered_accs_unstacked[\"lstm\"], filtered_accs_unstacked[\"transformer\"]))\n",
    "print(cohen_d(filtered_accs_unstacked[\"lstm\"], filtered_accs_unstacked[\"transformer\"]))"
   ]
  },
  {
   "cell_type": "markdown",
   "metadata": {},
   "source": [
    "## Regression Analysis\n",
    "\n",
    "Here's an attempt at a regression that attempts to decipher what factors are and are not responsible for the accuracy deltas.   Let me know what you think and/or what I'm forgetting!"
   ]
  },
  {
   "cell_type": "markdown",
   "metadata": {},
   "source": [
    "Rough summary: architecture _on its own_ is not significant!  Neither is _test perplexity_!  The only consistent factor is _filter-target_ and all of the interactions with it.  Does this make sense?  I'm also not sure this is the best specification of the predictors for the model.  I did random intercepts for each combination of corpus and benchmark; I found similar things when only doing random intercepts for corpus."
   ]
  },
  {
   "cell_type": "code",
   "execution_count": 24,
   "metadata": {},
   "outputs": [
    {
     "name": "stdout",
     "output_type": "stream",
     "text": [
      "                            Mixed Linear Model Regression Results\n",
      "=============================================================================================\n",
      "Model:                        MixedLM             Dependent Variable:             blimp_delta\n",
      "No. Observations:             10720               Method:                         REML       \n",
      "No. Groups:                   16                  Scale:                          0.0014     \n",
      "Min. group size:              670                 Log-Likelihood:                 19977.0387 \n",
      "Max. group size:              670                 Converged:                      Yes        \n",
      "Mean group size:              670.0                                                          \n",
      "---------------------------------------------------------------------------------------------\n",
      "                                                   Coef.  Std.Err.   z    P>|z| [0.025 0.975]\n",
      "---------------------------------------------------------------------------------------------\n",
      "Intercept                                           0.365    0.438  0.833 0.405 -0.494  1.225\n",
      "filter_target[T.True]                               2.492    0.272  9.169 0.000  1.959  3.025\n",
      "arch[T.transformer]                                 0.065    0.054  1.215 0.224 -0.040  0.171\n",
      "filter_target[T.True]:arch[T.transformer]          -1.987    0.377 -5.265 0.000 -2.726 -1.247\n",
      "corpus_tokens                                      -0.000    0.000 -0.721 0.471 -0.000  0.000\n",
      "test_ppl                                           -0.004    0.004 -0.958 0.338 -0.011  0.004\n",
      "test_ppl:filter_target[T.True]                     -0.047    0.005 -9.316 0.000 -0.057 -0.037\n",
      "test_ppl:arch[T.transformer]                       -0.002    0.001 -1.535 0.125 -0.004  0.000\n",
      "test_ppl:filter_target[T.True]:arch[T.transformer]  0.036    0.008  4.733 0.000  0.021  0.050\n",
      "Group Var                                           0.000    0.000                           \n",
      "=============================================================================================\n",
      "\n"
     ]
    },
    {
     "name": "stderr",
     "output_type": "stream",
     "text": [
      "/Users/shanest/opt/anaconda3/envs/corpus-filtering/lib/python3.9/site-packages/statsmodels/regression/mixed_linear_model.py:2238: ConvergenceWarning: The MLE may be on the boundary of the parameter space.\n",
      "  warnings.warn(msg, ConvergenceWarning)\n"
     ]
    }
   ],
   "source": [
    "main_data[\"corpus-and-benchmark\"] = main_data[\"corpus\"] + \"-\" + main_data[\"blimp_benchmark\"]\n",
    "full_regression = smf.mixedlm(\"blimp_delta ~ corpus_tokens + test_ppl*filter_target*arch\", main_data, groups=main_data[\"corpus-and-benchmark\"])\n",
    "full_regression_result = full_regression.fit()\n",
    "print(full_regression_result.summary())\n"
   ]
  }
 ],
 "metadata": {
  "kernelspec": {
   "display_name": "corpus-filtering",
   "language": "python",
   "name": "python3"
  },
  "language_info": {
   "codemirror_mode": {
    "name": "ipython",
    "version": 3
   },
   "file_extension": ".py",
   "mimetype": "text/x-python",
   "name": "python",
   "nbconvert_exporter": "python",
   "pygments_lexer": "ipython3",
   "version": "3.9.16"
  }
 },
 "nbformat": 4,
 "nbformat_minor": 2
}
